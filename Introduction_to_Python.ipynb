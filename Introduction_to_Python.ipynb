{
  "nbformat": 4,
  "nbformat_minor": 0,
  "metadata": {
    "colab": {
      "provenance": [],
      "authorship_tag": "ABX9TyPMRfOXNfP3AVdwCAh8GN3b",
      "include_colab_link": true
    },
    "kernelspec": {
      "name": "python3",
      "display_name": "Python 3"
    },
    "language_info": {
      "name": "python"
    }
  },
  "cells": [
    {
      "cell_type": "markdown",
      "metadata": {
        "id": "view-in-github",
        "colab_type": "text"
      },
      "source": [
        "<a href=\"https://colab.research.google.com/github/GianJerichoEspino/CPE-21A-PLD-1-1/blob/main/Introduction_to_Python.ipynb\" target=\"_parent\"><img src=\"https://colab.research.google.com/assets/colab-badge.svg\" alt=\"Open In Colab\"/></a>"
      ]
    },
    {
      "cell_type": "markdown",
      "source": [
        "#Indentation"
      ],
      "metadata": {
        "id": "Mj_LZ4IMzFY1"
      }
    },
    {
      "cell_type": "code",
      "source": [
        "#determining if six is greater than 1\n",
        "if 6>1:\n",
        "  print(\"6 is greater than 1\")  #this indentation means the syntax is correct"
      ],
      "metadata": {
        "colab": {
          "base_uri": "https://localhost:8080/"
        },
        "id": "I2vNCVTK3d-G",
        "outputId": "39cb2976-5c7f-4122-f556-e2336b162cf4"
      },
      "execution_count": 7,
      "outputs": [
        {
          "output_type": "stream",
          "name": "stdout",
          "text": [
            "6 is greater than 1\n"
          ]
        }
      ]
    },
    {
      "cell_type": "markdown",
      "source": [
        "# Variable Declaration"
      ],
      "metadata": {
        "id": "IX6K_lM-4w45"
      }
    },
    {
      "cell_type": "code",
      "source": [
        "#Variable with a single value\n",
        "x = 5\n",
        "y = 3\n",
        "if x > y:\n",
        "  print(\"x is greater than y\")\n",
        "else:\n",
        "  print(\"x is less than y\")\n",
        "\n",
        "#Variable with multiple values\n",
        "a, b = 1, 2\n",
        "print(\"the value of a is:\", a)\n",
        "print(\"the value of b is:\", b)  #input print for all variables to consecutively print all variables"
      ],
      "metadata": {
        "colab": {
          "base_uri": "https://localhost:8080/"
        },
        "id": "g3SSPUbf5C9J",
        "outputId": "50b63ac5-ea28-48e6-eeb8-9284783d6c52"
      },
      "execution_count": 40,
      "outputs": [
        {
          "output_type": "stream",
          "name": "stdout",
          "text": [
            "x is greater than y\n",
            "the value of a is: 1\n",
            "the value of b is: 2\n"
          ]
        }
      ]
    },
    {
      "cell_type": "markdown",
      "source": [
        "#One Value to Multiple Variables"
      ],
      "metadata": {
        "id": "iR_2DuFZDAB3"
      }
    },
    {
      "cell_type": "code",
      "source": [
        "#Multiple variables with a single value\n",
        "p = q = r = \"Sir\"\n",
        "print(p)\n",
        "print(q)\n",
        "print(r)"
      ],
      "metadata": {
        "colab": {
          "base_uri": "https://localhost:8080/"
        },
        "id": "KSNx2MBUDl2R",
        "outputId": "0e422bd6-4690-418f-f6eb-4b975dade07b"
      },
      "execution_count": 42,
      "outputs": [
        {
          "output_type": "stream",
          "name": "stdout",
          "text": [
            "Sir\n",
            "Sir\n",
            "Sir\n"
          ]
        }
      ]
    },
    {
      "cell_type": "markdown",
      "source": [
        "#Casting and Type() Function"
      ],
      "metadata": {
        "id": "P1aAk5U7_pRA"
      }
    },
    {
      "cell_type": "code",
      "source": [
        "f = int(4)  #integer\n",
        "g = float(4)  #decimal/fractional\n",
        "\n",
        "#f value and type\n",
        "print(f)\n",
        "print(type(f))\n",
        "#g value and type\n",
        "print(g)\n",
        "print(type(g))"
      ],
      "metadata": {
        "colab": {
          "base_uri": "https://localhost:8080/"
        },
        "id": "Pkcjicyz_u2k",
        "outputId": "2ac8a0d6-1ec1-4351-ac74-dbc212bb2765"
      },
      "execution_count": 35,
      "outputs": [
        {
          "output_type": "stream",
          "name": "stdout",
          "text": [
            "4\n",
            "<class 'int'>\n",
            "4.0\n",
            "<class 'float'>\n"
          ]
        }
      ]
    },
    {
      "cell_type": "markdown",
      "source": [
        "#Double Quote or Single Quote"
      ],
      "metadata": {
        "id": "efhhIbIeBAPQ"
      }
    },
    {
      "cell_type": "code",
      "source": [
        "name = \"Gian\"\n",
        "name1 = 'Espino'\n",
        "print(name, name1)"
      ],
      "metadata": {
        "colab": {
          "base_uri": "https://localhost:8080/"
        },
        "id": "WaffM7z7BGgJ",
        "outputId": "39ec7d6f-da9a-444c-c644-0b9a13e3d55c"
      },
      "execution_count": 37,
      "outputs": [
        {
          "output_type": "stream",
          "name": "stdout",
          "text": [
            "Gian Espino\n"
          ]
        }
      ]
    },
    {
      "cell_type": "markdown",
      "source": [
        "#Case Sensitive"
      ],
      "metadata": {
        "id": "N0VUZSpqCbmY"
      }
    },
    {
      "cell_type": "code",
      "source": [
        "#Variables are case sensitive\n",
        "a = \"Ana\"\n",
        "print(a)\n",
        "A = \"John \"\n",
        "print(A)"
      ],
      "metadata": {
        "colab": {
          "base_uri": "https://localhost:8080/"
        },
        "id": "20XFyLbqCesz",
        "outputId": "4a587236-a024-4e5f-ea1e-f73d87678f69"
      },
      "execution_count": 41,
      "outputs": [
        {
          "output_type": "stream",
          "name": "stdout",
          "text": [
            "Ana\n",
            "John \n"
          ]
        }
      ]
    },
    {
      "cell_type": "markdown",
      "source": [
        "#Output Variable"
      ],
      "metadata": {
        "id": "wZtgCtWUD3bn"
      }
    },
    {
      "cell_type": "code",
      "source": [
        "o = \"is fun\"\n",
        "#append is enjoying\n",
        "print(\"Python programming\"+\" \"+o) #Use another + to put space"
      ],
      "metadata": {
        "colab": {
          "base_uri": "https://localhost:8080/"
        },
        "id": "0oF87RRuD6MV",
        "outputId": "1a6eeb5b-fec2-42f0-e5e5-6fced15f24b9"
      },
      "execution_count": 49,
      "outputs": [
        {
          "output_type": "stream",
          "name": "stdout",
          "text": [
            "Python programming is fun\n"
          ]
        }
      ]
    },
    {
      "cell_type": "markdown",
      "source": [
        "####Other way:"
      ],
      "metadata": {
        "id": "Qx1U8c2kKj5h"
      }
    },
    {
      "cell_type": "code",
      "source": [
        "o = \"fun\"\n",
        "t = \"Python is \"\n",
        "z = t + o\n",
        "print(z)"
      ],
      "metadata": {
        "colab": {
          "base_uri": "https://localhost:8080/"
        },
        "id": "XHyz4iJtL5Or",
        "outputId": "0b3d9e7a-d96b-4970-b0c8-aa485fc9365b"
      },
      "execution_count": 52,
      "outputs": [
        {
          "output_type": "stream",
          "name": "stdout",
          "text": [
            "Python is fun\n"
          ]
        }
      ]
    }
  ]
}