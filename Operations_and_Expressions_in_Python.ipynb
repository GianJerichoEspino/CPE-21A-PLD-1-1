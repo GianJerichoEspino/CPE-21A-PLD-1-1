{
  "nbformat": 4,
  "nbformat_minor": 0,
  "metadata": {
    "colab": {
      "provenance": [],
      "authorship_tag": "ABX9TyN/uS2DqdWgW3K7sX54068I",
      "include_colab_link": true
    },
    "kernelspec": {
      "name": "python3",
      "display_name": "Python 3"
    },
    "language_info": {
      "name": "python"
    }
  },
  "cells": [
    {
      "cell_type": "markdown",
      "metadata": {
        "id": "view-in-github",
        "colab_type": "text"
      },
      "source": [
        "<a href=\"https://colab.research.google.com/github/GianJerichoEspino/CPE-21A-PLD-1-1/blob/main/Operations_and_Expressions_in_Python.ipynb\" target=\"_parent\"><img src=\"https://colab.research.google.com/assets/colab-badge.svg\" alt=\"Open In Colab\"/></a>"
      ]
    },
    {
      "cell_type": "markdown",
      "source": [
        "#Boolean Operators"
      ],
      "metadata": {
        "id": "Dlgr4S8b4IPz"
      }
    },
    {
      "cell_type": "code",
      "source": [
        "print(10>9)\n",
        "print(10==9)  # == is used for equality, = declares the value of a variable"
      ],
      "metadata": {
        "colab": {
          "base_uri": "https://localhost:8080/"
        },
        "id": "sIRSPUJn5JJ6",
        "outputId": "12ae2f5d-e428-4c56-c175-53f91f3eec4a"
      },
      "execution_count": 2,
      "outputs": [
        {
          "output_type": "stream",
          "name": "stdout",
          "text": [
            "True\n",
            "False\n"
          ]
        }
      ]
    },
    {
      "cell_type": "code",
      "source": [
        "a = 10\n",
        "b = 9\n",
        "print(a>b)\n",
        "print(a==b)\n",
        "print(a!=a) # != symbol for is not equal"
      ],
      "metadata": {
        "colab": {
          "base_uri": "https://localhost:8080/"
        },
        "id": "F-wpfAaR6HN8",
        "outputId": "149fde0f-ad2e-4938-ffd3-9ee0d90f8b35"
      },
      "execution_count": 20,
      "outputs": [
        {
          "output_type": "stream",
          "name": "stdout",
          "text": [
            "True\n",
            "False\n",
            "False\n"
          ]
        }
      ]
    },
    {
      "cell_type": "code",
      "source": [
        "print(bool(\"Hello world\"))\n",
        "print(bool(15))\n",
        "print(bool(True))\n",
        "print(bool(False))\n",
        "print(bool()) #Any value with content is true except empty sets\n",
        "print(bool(0))\n",
        "print(bool(None))"
      ],
      "metadata": {
        "colab": {
          "base_uri": "https://localhost:8080/"
        },
        "id": "2Pv5sfBM9E3R",
        "outputId": "000f921f-df22-48cf-8220-76bdbbd92087"
      },
      "execution_count": 13,
      "outputs": [
        {
          "output_type": "stream",
          "name": "stdout",
          "text": [
            "True\n",
            "True\n",
            "True\n",
            "False\n",
            "False\n",
            "False\n",
            "False\n"
          ]
        }
      ]
    },
    {
      "cell_type": "code",
      "source": [
        "def myFunction(): return True\n",
        "print(myFunction())"
      ],
      "metadata": {
        "colab": {
          "base_uri": "https://localhost:8080/"
        },
        "id": "BaJAUiUK-clT",
        "outputId": "28a03b39-211a-4c9a-eee7-a82a9c4a45a6"
      },
      "execution_count": 15,
      "outputs": [
        {
          "output_type": "stream",
          "name": "stdout",
          "text": [
            "True\n"
          ]
        }
      ]
    },
    {
      "cell_type": "code",
      "source": [
        "def myFunction(): return True\n",
        "if myFunction():\n",
        "  print(\"YES\")\n",
        "else:\n",
        "  print(\"NO\")"
      ],
      "metadata": {
        "colab": {
          "base_uri": "https://localhost:8080/"
        },
        "id": "skqoj_27-5kc",
        "outputId": "fb9941c7-0f38-4b35-fbec-5de2710505d0"
      },
      "execution_count": 18,
      "outputs": [
        {
          "output_type": "stream",
          "name": "stdout",
          "text": [
            "YES\n"
          ]
        }
      ]
    },
    {
      "cell_type": "markdown",
      "source": [
        "#Python Operators"
      ],
      "metadata": {
        "id": "ceLNQdRcANbC"
      }
    },
    {
      "cell_type": "code",
      "source": [
        "print(5+5)\n",
        "print(10-5)\n",
        "print(5/5)\n",
        "print(10%3)  #Modular division computes remainder\n",
        "print(10//3)  #Floor division computes whole number integer value"
      ],
      "metadata": {
        "colab": {
          "base_uri": "https://localhost:8080/"
        },
        "id": "55NTWEP0AQAH",
        "outputId": "3efc5133-82b3-4df8-8145-025a57a25e0b"
      },
      "execution_count": 9,
      "outputs": [
        {
          "output_type": "stream",
          "name": "stdout",
          "text": [
            "10\n",
            "5\n",
            "1.0\n",
            "1\n",
            "3\n"
          ]
        }
      ]
    },
    {
      "cell_type": "markdown",
      "source": [
        "###Concatenation"
      ],
      "metadata": {
        "id": "CiTuxKw3BHmu"
      }
    },
    {
      "cell_type": "code",
      "source": [
        "print(10**2)  #power/exponent"
      ],
      "metadata": {
        "colab": {
          "base_uri": "https://localhost:8080/"
        },
        "id": "L7AlS6ujBKqg",
        "outputId": "f14ba0ca-bda5-41d6-bcf4-ee2c638a7e8c"
      },
      "execution_count": 26,
      "outputs": [
        {
          "output_type": "stream",
          "name": "stdout",
          "text": [
            "100\n"
          ]
        }
      ]
    },
    {
      "cell_type": "markdown",
      "source": [
        "#Python Bitwise Operators"
      ],
      "metadata": {
        "id": "OyhwMT4EBbep"
      }
    },
    {
      "cell_type": "code",
      "source": [
        "a = 10  #01010\n",
        "b = 9   #01001\n",
        "print(a&b)  #Binary AND\n",
        "print(a|b)  #Binary OR\n",
        "print(a^b)  #Binary XOR\n",
        "print(~a)   #Binary Ones Complement\n",
        "print(a<<1) #Binary Left Shift\n",
        "print(a>>1) #Binary Right Shift"
      ],
      "metadata": {
        "colab": {
          "base_uri": "https://localhost:8080/"
        },
        "id": "nJWuaCxLBf6-",
        "outputId": "bff9a613-b371-45a1-a63c-97dc3b8fc084"
      },
      "execution_count": 32,
      "outputs": [
        {
          "output_type": "stream",
          "name": "stdout",
          "text": [
            "8\n",
            "11\n",
            "3\n",
            "-11\n",
            "20\n",
            "5\n"
          ]
        }
      ]
    },
    {
      "cell_type": "markdown",
      "source": [
        "#Python Assignment Operators"
      ],
      "metadata": {
        "id": "ixOFKvOG3AZp"
      }
    },
    {
      "cell_type": "code",
      "source": [
        "x=1\n",
        "x+=3  #same as x=x+3\n",
        "print(x)\n",
        "\n",
        "y=5\n",
        "y-=3  #same as y=y-3\n",
        "print(y)\n",
        "\n",
        "z=3\n",
        "z*=2  #same as z=z*2\n",
        "print(z)\n",
        "\n",
        "f=9\n",
        "f/=3  #same as f=f/3\n",
        "print(f)\n",
        "\n",
        "g=10\n",
        "g%=3  #same as g=g%3\n",
        "print(g)"
      ],
      "metadata": {
        "colab": {
          "base_uri": "https://localhost:8080/"
        },
        "id": "9pEIBaNB3X_5",
        "outputId": "5a6a95a9-833e-4100-9ebc-527d7787f926"
      },
      "execution_count": 8,
      "outputs": [
        {
          "output_type": "stream",
          "name": "stdout",
          "text": [
            "4\n",
            "2\n",
            "6\n",
            "3.0\n",
            "1\n"
          ]
        }
      ]
    },
    {
      "cell_type": "markdown",
      "source": [
        "#Logical Operators"
      ],
      "metadata": {
        "id": "8ZSM3pO65Uwq"
      }
    },
    {
      "cell_type": "code",
      "source": [
        "x=5\n",
        "y=0\n",
        "\n",
        "print(x>y and y==y)       #both operands are true, then condition becomes true\n",
        "print(x<y or x==y)        #if any of the two operands are non zero, condition becomes true\n",
        "print(not(x>y and y==y))  #reverses the logical state of its operand"
      ],
      "metadata": {
        "colab": {
          "base_uri": "https://localhost:8080/"
        },
        "id": "hct4Za6h5Xsy",
        "outputId": "435310c5-2ae2-42b4-d360-33d7118380c8"
      },
      "execution_count": 22,
      "outputs": [
        {
          "output_type": "stream",
          "name": "stdout",
          "text": [
            "True\n",
            "False\n",
            "False\n"
          ]
        }
      ]
    },
    {
      "cell_type": "markdown",
      "source": [
        "#Identity Operator"
      ],
      "metadata": {
        "id": "_vsnAnBQ7QUG"
      }
    },
    {
      "cell_type": "code",
      "source": [
        "a=5\n",
        "b=0\n",
        "\n",
        "print(a is b)\n",
        "print(a is not b)"
      ],
      "metadata": {
        "colab": {
          "base_uri": "https://localhost:8080/"
        },
        "id": "McBIBvBh7TDz",
        "outputId": "2d572759-c237-4cd2-8f96-bd8d39be6a0b"
      },
      "execution_count": 23,
      "outputs": [
        {
          "output_type": "stream",
          "name": "stdout",
          "text": [
            "False\n",
            "True\n"
          ]
        }
      ]
    }
  ]
}