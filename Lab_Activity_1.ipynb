{
  "nbformat": 4,
  "nbformat_minor": 0,
  "metadata": {
    "colab": {
      "provenance": [],
      "collapsed_sections": [
        "jEC9-b_oXIyD"
      ],
      "authorship_tag": "ABX9TyMthwkt2z/0mu2JVgq4EDGg",
      "include_colab_link": true
    },
    "kernelspec": {
      "name": "python3",
      "display_name": "Python 3"
    },
    "language_info": {
      "name": "python"
    }
  },
  "cells": [
    {
      "cell_type": "markdown",
      "metadata": {
        "id": "view-in-github",
        "colab_type": "text"
      },
      "source": [
        "<a href=\"https://colab.research.google.com/github/GianJerichoEspino/CPE-21A-PLD-1-1/blob/main/Lab_Activity_1.ipynb\" target=\"_parent\"><img src=\"https://colab.research.google.com/assets/colab-badge.svg\" alt=\"Open In Colab\"/></a>"
      ]
    },
    {
      "cell_type": "markdown",
      "source": [
        "# Problem 1"
      ],
      "metadata": {
        "id": "soBqF1v4XGj7"
      }
    },
    {
      "cell_type": "code",
      "source": [
        "n=20\n",
        "total_numbers=n\n",
        "sum=0\n",
        "average=0\n",
        "\n",
        "while n>=0:\n",
        "  sum+=n\n",
        "  n-=1\n",
        "print(\"Sum =\",sum)\n",
        "\n",
        "average=sum/total_numbers\n",
        "print(\"Average =\",average)"
      ],
      "metadata": {
        "colab": {
          "base_uri": "https://localhost:8080/"
        },
        "id": "F3h0JcDGeNsc",
        "outputId": "8e4b31d2-c79b-4c26-e6cc-9230c0553fe6"
      },
      "execution_count": 12,
      "outputs": [
        {
          "output_type": "stream",
          "name": "stdout",
          "text": [
            "Sum = 210\n",
            "Average = 10.5\n"
          ]
        }
      ]
    },
    {
      "cell_type": "markdown",
      "source": [
        "# Problem 2"
      ],
      "metadata": {
        "id": "jEC9-b_oXIyD"
      }
    },
    {
      "cell_type": "code",
      "source": [
        "class Student:\n",
        "  def __init__(self,name,student_no,age,school,course):\n",
        "    self.name=name\n",
        "    self.student_no=student_no\n",
        "    self.age=age\n",
        "    self.school=school\n",
        "    self.course=course\n",
        "\n",
        "  def Info(self):\n",
        "    return self.name + self.student_no + self.age + self.school + self.course\n",
        "\n",
        "Myself=Student(\"Gian Jericho Z. Espino, \", \"202200618, \", \"19 years old, \", \"Cavite State University, \", \"BSCpE \")\n",
        "print(\"Student info:\", Myself.Info())"
      ],
      "metadata": {
        "colab": {
          "base_uri": "https://localhost:8080/"
        },
        "id": "Wk1I92uiXKrz",
        "outputId": "40580c4f-6da6-41ec-91d0-ea8d7da786de"
      },
      "execution_count": 13,
      "outputs": [
        {
          "output_type": "stream",
          "name": "stdout",
          "text": [
            "Student info: Gian Jericho Z. Espino, 202200618, 19 years old, Cavite State University, BSCpE \n"
          ]
        }
      ]
    }
  ]
}