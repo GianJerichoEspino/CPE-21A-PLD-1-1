{
  "nbformat": 4,
  "nbformat_minor": 0,
  "metadata": {
    "colab": {
      "provenance": [],
      "authorship_tag": "ABX9TyORIzo+6DnSx2URkrZi2L3v",
      "include_colab_link": true
    },
    "kernelspec": {
      "name": "python3",
      "display_name": "Python 3"
    },
    "language_info": {
      "name": "python"
    }
  },
  "cells": [
    {
      "cell_type": "markdown",
      "metadata": {
        "id": "view-in-github",
        "colab_type": "text"
      },
      "source": [
        "<a href=\"https://colab.research.google.com/github/GianJerichoEspino/CPE-21A-PLD-1-1/blob/main/Python_as_Function.ipynb\" target=\"_parent\"><img src=\"https://colab.research.google.com/assets/colab-badge.svg\" alt=\"Open In Colab\"/></a>"
      ]
    },
    {
      "cell_type": "markdown",
      "source": [
        "#Function Calls"
      ],
      "metadata": {
        "id": "C_q-UscbixP6"
      }
    },
    {
      "cell_type": "code",
      "source": [
        "abs(-4.5)"
      ],
      "metadata": {
        "colab": {
          "base_uri": "https://localhost:8080/"
        },
        "id": "UjimTWDgi0iv",
        "outputId": "2565bf9c-692a-4866-dfdc-62a27493cba7"
      },
      "execution_count": null,
      "outputs": [
        {
          "output_type": "execute_result",
          "data": {
            "text/plain": [
              "4.5"
            ]
          },
          "metadata": {},
          "execution_count": 1
        }
      ]
    },
    {
      "cell_type": "markdown",
      "source": [
        "#Function Calls on Other Function"
      ],
      "metadata": {
        "id": "Ioze7FV2i-xk"
      }
    },
    {
      "cell_type": "code",
      "source": [
        "pow(abs(-2), round(4.5))  #power 2^4 or (2, 4)"
      ],
      "metadata": {
        "colab": {
          "base_uri": "https://localhost:8080/"
        },
        "id": "OQjiK10YjDxn",
        "outputId": "4a441469-4449-4b83-a608-f62d1c8c4369"
      },
      "execution_count": null,
      "outputs": [
        {
          "output_type": "execute_result",
          "data": {
            "text/plain": [
              "16"
            ]
          },
          "metadata": {},
          "execution_count": 2
        }
      ]
    },
    {
      "cell_type": "markdown",
      "source": [
        "#Type Code Function"
      ],
      "metadata": {
        "id": "mrmsIdaRjau_"
      }
    },
    {
      "cell_type": "code",
      "source": [
        "int(4.5)\n",
        "float(4)"
      ],
      "metadata": {
        "colab": {
          "base_uri": "https://localhost:8080/"
        },
        "id": "g0xOtwf_jd_L",
        "outputId": "d1c7ccb0-6610-46f9-a76d-bd49542499df"
      },
      "execution_count": null,
      "outputs": [
        {
          "output_type": "execute_result",
          "data": {
            "text/plain": [
              "4.0"
            ]
          },
          "metadata": {},
          "execution_count": 4
        }
      ]
    },
    {
      "cell_type": "markdown",
      "source": [
        "#Defining Own Function"
      ],
      "metadata": {
        "id": "B_woHj9Rj_x3"
      }
    },
    {
      "cell_type": "code",
      "source": [
        "fahrenheit = float(input(\"Enter your number to fahrenheit: \"))\n",
        "\n",
        "def convert_to_celsius(fahrenheit):\n",
        "    celsius = (fahrenheit - 32)*(5/9)\n",
        "    return celsius\n",
        "\n",
        "\n",
        "convert_to_celsius(fahrenheit)"
      ],
      "metadata": {
        "colab": {
          "base_uri": "https://localhost:8080/"
        },
        "id": "2B7apPfSpufS",
        "outputId": "52f813c3-1565-4322-881a-df2a8812a387"
      },
      "execution_count": null,
      "outputs": [
        {
          "name": "stdout",
          "output_type": "stream",
          "text": [
            "Enter your number to fahrenheit: 86\n"
          ]
        },
        {
          "output_type": "execute_result",
          "data": {
            "text/plain": [
              "30.0"
            ]
          },
          "metadata": {},
          "execution_count": 27
        }
      ]
    },
    {
      "cell_type": "code",
      "source": [
        "fahrenheit = float(input(\"Enter your number in fahrenheit: \"))\n",
        "\n",
        "def convert(fahrenheit):\n",
        "    celsius = (fahrenheit - 32)*(5/9)\n",
        "    print(celsius)\n",
        "\n",
        "\n",
        "convert(fahrenheit)"
      ],
      "metadata": {
        "colab": {
          "base_uri": "https://localhost:8080/"
        },
        "id": "RXXxUFHArU1M",
        "outputId": "5c820ade-8adc-458f-e9cb-d2783f002391"
      },
      "execution_count": null,
      "outputs": [
        {
          "output_type": "stream",
          "name": "stdout",
          "text": [
            "Enter your number in fahrenheit: 86\n",
            "30.0\n"
          ]
        }
      ]
    },
    {
      "cell_type": "code",
      "source": [
        "def convert_to_celsius(fahrenheit):\n",
        "    celsius = (fahrenheit - 32)*(5/9)\n",
        "    return celsius\n",
        "\n",
        "fahrenheit=int(input(\"Enter fahrenheit value\"))\n",
        "f=convert_to_celsius(fahrenheit )\n",
        "\n",
        "print(round(f,2))"
      ],
      "metadata": {
        "colab": {
          "base_uri": "https://localhost:8080/"
        },
        "id": "plrqwhVmrz96",
        "outputId": "7f98dacf-a161-4259-996d-3273536c7d5e"
      },
      "execution_count": null,
      "outputs": [
        {
          "output_type": "stream",
          "name": "stdout",
          "text": [
            "Enter fahrenheit value100\n",
            "37.78\n"
          ]
        }
      ]
    },
    {
      "cell_type": "markdown",
      "source": [
        "#Exercises"
      ],
      "metadata": {
        "id": "MGoMHs7EcFib"
      }
    },
    {
      "cell_type": "code",
      "source": [
        "f=min(2,3,4)\n",
        "g=max(2,-3,4,7,-5)\n",
        "h=max(2,-3,min(4,7),-5)\n",
        "\n",
        "print(f)\n",
        "print(g)\n",
        "print(h)"
      ],
      "metadata": {
        "colab": {
          "base_uri": "https://localhost:8080/"
        },
        "id": "btT1DqxScHt_",
        "outputId": "ac17173d-9753-4880-aae0-53860275f20e"
      },
      "execution_count": 1,
      "outputs": [
        {
          "output_type": "stream",
          "name": "stdout",
          "text": [
            "2\n",
            "7\n",
            "4\n"
          ]
        }
      ]
    }
  ]
}