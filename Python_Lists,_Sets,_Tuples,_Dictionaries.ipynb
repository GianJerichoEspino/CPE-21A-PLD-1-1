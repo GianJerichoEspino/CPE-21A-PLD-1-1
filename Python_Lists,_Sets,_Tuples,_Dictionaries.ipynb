{
  "nbformat": 4,
  "nbformat_minor": 0,
  "metadata": {
    "colab": {
      "provenance": [],
      "authorship_tag": "ABX9TyOSTTadJcdyjUC9JrTiZQQr",
      "include_colab_link": true
    },
    "kernelspec": {
      "name": "python3",
      "display_name": "Python 3"
    },
    "language_info": {
      "name": "python"
    }
  },
  "cells": [
    {
      "cell_type": "markdown",
      "metadata": {
        "id": "view-in-github",
        "colab_type": "text"
      },
      "source": [
        "<a href=\"https://colab.research.google.com/github/GianJerichoEspino/CPE-21A-PLD-1-1/blob/main/Python_Lists%2C_Sets%2C_Tuples%2C_Dictionaries.ipynb\" target=\"_parent\"><img src=\"https://colab.research.google.com/assets/colab-badge.svg\" alt=\"Open In Colab\"/></a>"
      ]
    },
    {
      "cell_type": "markdown",
      "source": [
        "# Python List"
      ],
      "metadata": {
        "id": "7yGy9AP91mxt"
      }
    },
    {
      "cell_type": "code",
      "execution_count": 3,
      "metadata": {
        "colab": {
          "base_uri": "https://localhost:8080/"
        },
        "id": "feg7akO5xhdG",
        "outputId": "73af690d-705a-4059-f41c-7df607693bdc"
      },
      "outputs": [
        {
          "output_type": "stream",
          "name": "stdout",
          "text": [
            "1\n",
            "[1, 2, 'A', 'B', 'Hello', 'World!']\n"
          ]
        }
      ],
      "source": [
        "pi=3.14159\n",
        "varlist=[1,2,'A','B', 'Hello', pi]\n",
        "print(varlist[0])\n",
        "\n",
        "varlist.append(\"World!\")\n",
        "len(varlist)\n",
        "\n",
        "varlist.remove(pi)\n",
        "print(varlist)"
      ]
    },
    {
      "cell_type": "markdown",
      "source": [
        "# Python Dictionary"
      ],
      "metadata": {
        "id": "E5Bdyd0x1igt"
      }
    },
    {
      "cell_type": "code",
      "source": [
        "thisdict={\n",
        "    \"name\":\"Gian\",\n",
        "    \"age\":19,\n",
        "    \"bday\":\"January 6, 2004\"\n",
        "    }\n",
        "\n",
        "print(thisdict)"
      ],
      "metadata": {
        "colab": {
          "base_uri": "https://localhost:8080/"
        },
        "id": "wIMHm7lI1kcP",
        "outputId": "e7deb9f5-dcb1-4eb3-eabf-514ecd080a3c"
      },
      "execution_count": 1,
      "outputs": [
        {
          "output_type": "stream",
          "name": "stdout",
          "text": [
            "{'name': 'Gian', 'age': 19, 'bday': 'January 6, 2004'}\n"
          ]
        }
      ]
    },
    {
      "cell_type": "markdown",
      "source": [
        "# Python List Generators and Comprehension"
      ],
      "metadata": {
        "id": "5VFgESOP3FzT"
      }
    },
    {
      "cell_type": "code",
      "source": [
        "varList=[0,1,2,3,4]\n",
        "print(varList)\n",
        "\n",
        "varList=range(0,5,3)\n",
        "print([var for var in varList])"
      ],
      "metadata": {
        "colab": {
          "base_uri": "https://localhost:8080/"
        },
        "id": "fFDpbjLr3LrY",
        "outputId": "e36d8baf-eaa2-4ad7-e78a-7a514c87dd4a"
      },
      "execution_count": 3,
      "outputs": [
        {
          "output_type": "stream",
          "name": "stdout",
          "text": [
            "[0, 1, 2, 3, 4]\n",
            "[0, 3]\n"
          ]
        }
      ]
    },
    {
      "cell_type": "markdown",
      "source": [
        "# Slicing"
      ],
      "metadata": {
        "id": "EC_UpYA14yZU"
      }
    },
    {
      "cell_type": "code",
      "source": [
        "varList=[1,2,3,4,5,6,7,8,9,10]\n",
        "print(varList[:5])\n",
        "print(varList[5:])\n",
        "print(varList[:-2])\n",
        "print(varList[-2:])\n",
        "print(varList[2:-2])\n",
        "print(varList[2:8:2])"
      ],
      "metadata": {
        "colab": {
          "base_uri": "https://localhost:8080/"
        },
        "id": "2SejDott42gY",
        "outputId": "17b926e7-637a-4015-f00c-58fe052ebb0b"
      },
      "execution_count": 4,
      "outputs": [
        {
          "output_type": "stream",
          "name": "stdout",
          "text": [
            "[1, 2, 3, 4, 5]\n",
            "[6, 7, 8, 9, 10]\n",
            "[1, 2, 3, 4, 5, 6, 7, 8]\n",
            "[9, 10]\n",
            "[3, 4, 5, 6, 7, 8]\n",
            "[3, 5, 7]\n"
          ]
        }
      ]
    }
  ]
}