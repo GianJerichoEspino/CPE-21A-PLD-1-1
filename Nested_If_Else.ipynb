{
  "nbformat": 4,
  "nbformat_minor": 0,
  "metadata": {
    "colab": {
      "provenance": [],
      "authorship_tag": "ABX9TyOvI/sHCkzTYLJwUr+ysZx1",
      "include_colab_link": true
    },
    "kernelspec": {
      "name": "python3",
      "display_name": "Python 3"
    },
    "language_info": {
      "name": "python"
    }
  },
  "cells": [
    {
      "cell_type": "markdown",
      "metadata": {
        "id": "view-in-github",
        "colab_type": "text"
      },
      "source": [
        "<a href=\"https://colab.research.google.com/github/GianJerichoEspino/CPE-21A-PLD-1-1/blob/main/Nested_If_Else.ipynb\" target=\"_parent\"><img src=\"https://colab.research.google.com/assets/colab-badge.svg\" alt=\"Open In Colab\"/></a>"
      ]
    },
    {
      "cell_type": "markdown",
      "source": [
        "#Nested If Else"
      ],
      "metadata": {
        "id": "Q3x6i5jeXl0K"
      }
    },
    {
      "cell_type": "code",
      "source": [
        "print(\"Enter a number:\")\n",
        "x = int(input())\n",
        "if x>10:\n",
        "  print(\"above 10\")\n",
        "  if x>20:\n",
        "    print(\"above 20\")\n",
        "  else:\n",
        "    print(\"below 20\")\n",
        "  if x>30:\n",
        "    print(\"above 30\")\n",
        "  else:\n",
        "    print(\"below 30\")\n",
        "  if x>40:\n",
        "    print(\"above 40\")\n",
        "  else:\n",
        "    print(\"below 40\")\n",
        "  if x>50:\n",
        "    print(\"above 50\")\n",
        "  else:\n",
        "    print(\"below 50\")\n",
        "else:\n",
        "  print(\"not above 10\")"
      ],
      "metadata": {
        "id": "l6Nt59-kXrSG",
        "colab": {
          "base_uri": "https://localhost:8080/"
        },
        "outputId": "7e9b0c29-124d-4382-c358-86c055144cd3"
      },
      "execution_count": null,
      "outputs": [
        {
          "output_type": "stream",
          "name": "stdout",
          "text": [
            "Enter a number:\n",
            "10\n",
            "not above 10\n"
          ]
        }
      ]
    },
    {
      "cell_type": "markdown",
      "source": [
        "#Example 1"
      ],
      "metadata": {
        "id": "b84I7zk_fd7H"
      }
    },
    {
      "cell_type": "code",
      "source": [
        "print(\"Enter your age:\")\n",
        "x = int(input())  #your age\n",
        "if x>=18:\n",
        "  print(\"you are qualified to vote\")\n",
        "else:\n",
        "  print(\"you are not yet qualified to vote\")"
      ],
      "metadata": {
        "colab": {
          "base_uri": "https://localhost:8080/"
        },
        "id": "cVrKhcHgoy3e",
        "outputId": "89756ce8-7e71-4c9d-c117-d3d3b8d62701"
      },
      "execution_count": null,
      "outputs": [
        {
          "output_type": "stream",
          "name": "stdout",
          "text": [
            "Enter your age:\n",
            "17\n",
            "you are not yet qualified to vote\n"
          ]
        }
      ]
    },
    {
      "cell_type": "markdown",
      "source": [
        "#Example 2"
      ],
      "metadata": {
        "id": "vNgOJEnvfgWQ"
      }
    },
    {
      "cell_type": "code",
      "source": [
        "print(\"Enter a number\")\n",
        "x = int(input())\n",
        "if x>0:\n",
        "  print(x, \"is a positive number\")\n",
        "elif x<0:\n",
        "  print(x, \"is a negative number\")\n",
        "else:\n",
        "  print(x, \"is zero\")"
      ],
      "metadata": {
        "colab": {
          "base_uri": "https://localhost:8080/"
        },
        "id": "VMvnq55-sEEP",
        "outputId": "5c4fad6e-ecd9-4a77-c1c6-1f02fe803f68"
      },
      "execution_count": null,
      "outputs": [
        {
          "output_type": "stream",
          "name": "stdout",
          "text": [
            "Enter a number\n",
            "-1\n",
            "-1 is a negative number\n"
          ]
        }
      ]
    },
    {
      "cell_type": "markdown",
      "source": [
        "#Example 3"
      ],
      "metadata": {
        "id": "OOwA-V17fiKD"
      }
    },
    {
      "cell_type": "code",
      "source": [
        "print(\"Enter your grade\")\n",
        "x = int(input())  #your grade\n",
        "if x>=75:\n",
        "  print(\"you passed\")\n",
        "if x<0:\n",
        "  print(\"invalid grade\")\n",
        "elif x==74:\n",
        "  print(\"you require a remedial\")\n",
        "elif x<74:\n",
        "  print(\"you failed\")"
      ],
      "metadata": {
        "colab": {
          "base_uri": "https://localhost:8080/"
        },
        "id": "qGCGPQfTvBsz",
        "outputId": "a3f6a443-b824-46fc-e041-a0580cb39cbd"
      },
      "execution_count": 77,
      "outputs": [
        {
          "output_type": "stream",
          "name": "stdout",
          "text": [
            "Enter your grade\n",
            "-1\n",
            "invalid grade\n"
          ]
        }
      ]
    }
  ]
}