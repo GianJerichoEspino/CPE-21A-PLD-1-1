{
  "nbformat": 4,
  "nbformat_minor": 0,
  "metadata": {
    "colab": {
      "provenance": [],
      "authorship_tag": "ABX9TyPJ3Q8iGK/T9gCHPGHiWuoU",
      "include_colab_link": true
    },
    "kernelspec": {
      "name": "python3",
      "display_name": "Python 3"
    },
    "language_info": {
      "name": "python"
    }
  },
  "cells": [
    {
      "cell_type": "markdown",
      "metadata": {
        "id": "view-in-github",
        "colab_type": "text"
      },
      "source": [
        "<a href=\"https://colab.research.google.com/github/GianJerichoEspino/CPE-21A-PLD-1-1/blob/main/Object_and_Classes.ipynb\" target=\"_parent\"><img src=\"https://colab.research.google.com/assets/colab-badge.svg\" alt=\"Open In Colab\"/></a>"
      ]
    },
    {
      "cell_type": "markdown",
      "source": [
        "# Creating Class and Object"
      ],
      "metadata": {
        "id": "N-llqz4j1WCg"
      }
    },
    {
      "cell_type": "code",
      "source": [
        "class Person: #creating class named person\n",
        "  def __init__(self,name,age):\n",
        "    self.name=name\n",
        "    self.age=age\n",
        "\n",
        "person=Person(\"Gian\",18)\n",
        "print(\"My name is\",person.name)\n",
        "print(\"My age is\",person.age)\n",
        "\n",
        "class Student(Person):\n",
        "  pass\n",
        "\n",
        "person2=Student(\"Aubrey\", 23)\n",
        "print(\"Her name is\",person2.name)\n",
        "print(\"Her age is\",person2.age)"
      ],
      "metadata": {
        "colab": {
          "base_uri": "https://localhost:8080/"
        },
        "id": "D_n7QNHq1cvA",
        "outputId": "6c829c3b-d308-4920-de01-c85d652f29ef"
      },
      "execution_count": null,
      "outputs": [
        {
          "output_type": "stream",
          "name": "stdout",
          "text": [
            "My name is Gian\n",
            "My age is 18\n",
            "Her name is Aubrey\n",
            "Her age is 23\n"
          ]
        }
      ]
    },
    {
      "cell_type": "markdown",
      "source": [
        "#Application 1"
      ],
      "metadata": {
        "id": "O21hU2_Q30XE"
      }
    },
    {
      "cell_type": "code",
      "source": [
        "class Shape:\n",
        "  def __init__(self,area,perimeter):\n",
        "    self.area=area\n",
        "    self.perimeter=perimeter\n",
        "\n",
        "shape=Shape(50,30)\n",
        "print(\"The area is\",shape.area)\n",
        "print(\"The perimeter is\",shape.perimeter)\n",
        "\n",
        "class Square(Shape):\n",
        "  pass\n",
        "\n",
        "shape2=Square(25, 20)\n",
        "print(\"The area is\",shape2.area)\n",
        "print(\"The perimeter is\",shape2.perimeter)"
      ],
      "metadata": {
        "colab": {
          "base_uri": "https://localhost:8080/"
        },
        "id": "fvPMIfZb34RI",
        "outputId": "b77a632c-8ab5-4983-dc66-627cb161cab7"
      },
      "execution_count": 3,
      "outputs": [
        {
          "output_type": "stream",
          "name": "stdout",
          "text": [
            "The area is 50\n",
            "The perimeter is 30\n",
            "The area is 25\n",
            "The perimeter is 20\n"
          ]
        }
      ]
    }
  ]
}